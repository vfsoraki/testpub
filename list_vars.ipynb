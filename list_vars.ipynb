{
 "cells": [
  {
   "cell_type": "code",
   "execution_count": null,
   "id": "8240a0e8-9047-480b-9f4e-b5d5604d8b30",
   "metadata": {},
   "outputs": [],
   "source": [
    "with open('./mipasa/inspect.py') as f:\n",
    "    code = f.read()\n",
    "exec(code)"
   ]
  },
  {
   "cell_type": "code",
   "execution_count": 2,
   "id": "e15e5573-8c63-4045-9d90-ba690c20d12d",
   "metadata": {
    "mps_uuid": "3dc7f3f5-4f47-43f9-87d9-4eed135ae22f"
   },
   "outputs": [],
   "source": [
    "import time\n",
    "import numpy as np\n",
    "import pandas as pd\n",
    "\n",
    "class B:\n",
    "    def hello(self):\n",
    "        print('hello')\n",
    "\n",
    "\n",
    "i = 2\n",
    "ij = 1 + 2j\n",
    "f = float(2.2)\n",
    "s = 'asd'\n",
    "b = True\n",
    "h = {}\n",
    "a = []\n",
    "r = range(6)\n",
    "s = {\"apple\", \"banana\", \"cherry\"}\n",
    "fs = frozenset({\"apple\", \"banana\", \"cherry\"})\n",
    "b = b\"Hello\"\n",
    "ba = bytearray(5)\n",
    "mv = memoryview(bytes(5))\n",
    "n = None\n",
    "c = B()\n",
    "fun = lambda a : a + 10\n",
    "t = (\"apple\", \"banana\", \"cherry\")\n",
    "nparr = np.arange(15, dtype=np.int64).reshape(3, 5)\n",
    "df = pd.DataFrame(\n",
    "    {\n",
    "        \"Name\": [\n",
    "            \"Braund, Mr. Owen Harris\",\n",
    "            \"Allen, Mr. William Henry\",\n",
    "            \"Bonnell, Miss. Elizabeth\",\n",
    "        ],\n",
    "        \"Age\": [22, 35, 58],\n",
    "        \"Sex\": [\"male\", \"male\", \"female\"],\n",
    "    }\n",
    ")\n",
    "dfs = df[\"Age\"]\n"
   ]
  },
  {
   "cell_type": "code",
   "execution_count": 4,
   "id": "853a5a8c-165b-4bb2-bc92-f9d08dc54884",
   "metadata": {},
   "outputs": [
    {
     "name": "stdout",
     "output_type": "stream",
     "text": [
      "['Name', 'Age', 'Sex']\n",
      "[{'varName': 'a', 'varType': 'list', 'varSize': '56', 'varShape': '', 'varContent': '[]'}, {'varName': 'b', 'varType': 'bytes', 'varSize': '38', 'varShape': '', 'varContent': \"b'Hello'\"}, {'varName': 'ba', 'varType': 'bytearray', 'varSize': '62', 'varShape': '', 'varContent': \"bytearray(b'\\\\x00\\\\x00\\\\x00\\\\x00\\\\x00')\"}, {'varName': 'c', 'varType': 'B', 'varSize': '48', 'varShape': '', 'varContent': '<__main__.B object at 0x1036d6580>'}, {'varName': 'code', 'varType': 'str', 'varSize': '2371', 'varShape': '', 'varContent': '# Taken from https://github.com/ipython-contrib/jupyter_contrib_nbextensions/blob/master/src/jupyter_contrib_nbextensions/nbextensions/varInspector/va'}, {'varName': 'df', 'varType': 'DataFrame', 'varSize': '200', 'varShape': '(3, 3)', 'varContent': 'Column names: Name, Age, Sex'}, {'varName': 'dfs', 'varType': 'Series', 'varSize': '24', 'varShape': '(3,)', 'varContent': 'Series [3 rows]'}, {'varName': 'f', 'varType': 'float', 'varSize': '24', 'varShape': '', 'varContent': '2.2'}, {'varName': 'fs', 'varType': 'frozenset', 'varSize': '216', 'varShape': '', 'varContent': \"frozenset({'apple', 'cherry', 'banana'})\"}, {'varName': 'h', 'varType': 'dict', 'varSize': '64', 'varShape': '', 'varContent': '{}'}, {'varName': 'i', 'varType': 'int', 'varSize': '28', 'varShape': '', 'varContent': '2'}, {'varName': 'ij', 'varType': 'complex', 'varSize': '32', 'varShape': '', 'varContent': '(1+2j)'}, {'varName': 'mv', 'varType': 'memoryview', 'varSize': '184', 'varShape': '(5,)', 'varContent': '<memory at 0x117dd41c0>'}, {'varName': 'n', 'varType': 'NoneType', 'varSize': '16', 'varShape': '', 'varContent': 'None'}, {'varName': 'nparr', 'varType': 'ndarray', 'varSize': '120', 'varShape': '(3, 5)', 'varContent': 'array([[ 0,  1,  2,  3,  4],\\n       [ 5,  6,  7,  8,  9],\\n       [10, 11, 12, 13, 14]])'}, {'varName': 'r', 'varType': 'range', 'varSize': '48', 'varShape': '', 'varContent': 'range(0, 6)'}, {'varName': 's', 'varType': 'set', 'varSize': '216', 'varShape': '', 'varContent': \"{'apple', 'banana', 'cherry'}\"}, {'varName': 't', 'varType': 'tuple', 'varSize': '64', 'varShape': '', 'varContent': \"('apple', 'banana', 'cherry')\"}]\n"
     ]
    }
   ],
   "source": [
    "# command to refresh the list of variables\n",
    "print(dataframe_columns_list('df'))\n",
    "print(var_dic_list())"
   ]
  }
 ],
 "metadata": {
  "kernelspec": {
   "display_name": "JavaScript",
   "language": "javascript",
   "name": "jslab"
  },
  "language_info": {
   "file_extension": ".js",
   "mimetype": "text/javascript",
   "name": "javascript",
   "version": ""
  },
  "mipasa-version": 2
 },
 "nbformat": 4,
 "nbformat_minor": 5
}
